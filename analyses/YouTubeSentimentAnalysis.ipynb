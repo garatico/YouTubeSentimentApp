{
 "cells": [
  {
   "cell_type": "markdown",
   "id": "e180eb1d-40eb-4acf-978d-ca03cc56198b",
   "metadata": {},
   "source": [
    "## Library Imports"
   ]
  },
  {
   "cell_type": "code",
   "execution_count": 1,
   "id": "8e677832-4430-4ede-aff4-2251fea53dc1",
   "metadata": {},
   "outputs": [],
   "source": [
    "from decouple import AutoConfig\n",
    "import os\n",
    "import pandas as pd\n",
    "import matplotlib.pyplot as plt"
   ]
  },
  {
   "cell_type": "markdown",
   "id": "fdd4df0b-b5d9-4cc6-ac2f-1afb42123fc9",
   "metadata": {},
   "source": [
    "## Functional Imports"
   ]
  },
  {
   "cell_type": "code",
   "execution_count": 6,
   "id": "0d132cf7-7fc5-4085-95d0-5cd548bf317d",
   "metadata": {},
   "outputs": [],
   "source": [
    "from src.video.video_select import select_video\n",
    "from src.video.video_insert import insert_multiple_video\n",
    "from src.videos_manifest import list_files_in_directory\n",
    "\n",
    "from src.comments.comment_select import select_comment\n",
    "from src.comments.comment_insert import *\n",
    "from src.comments.comment_parser import *"
   ]
  },
  {
   "cell_type": "markdown",
   "id": "4160d485-20b9-485f-ac13-3ea8f8d544ca",
   "metadata": {},
   "source": [
    "### Load Manifest Data"
   ]
  },
  {
   "cell_type": "code",
   "execution_count": 3,
   "id": "a1457204-9322-4dfe-99aa-0dabd86d73bb",
   "metadata": {},
   "outputs": [
    {
     "data": {
      "text/html": [
       "<div>\n",
       "<style scoped>\n",
       "    .dataframe tbody tr th:only-of-type {\n",
       "        vertical-align: middle;\n",
       "    }\n",
       "\n",
       "    .dataframe tbody tr th {\n",
       "        vertical-align: top;\n",
       "    }\n",
       "\n",
       "    .dataframe thead th {\n",
       "        text-align: right;\n",
       "    }\n",
       "</style>\n",
       "<table border=\"1\" class=\"dataframe\">\n",
       "  <thead>\n",
       "    <tr style=\"text-align: right;\">\n",
       "      <th></th>\n",
       "      <th>filename</th>\n",
       "      <th>video_id</th>\n",
       "      <th>created_at</th>\n",
       "      <th>format</th>\n",
       "    </tr>\n",
       "  </thead>\n",
       "  <tbody>\n",
       "    <tr>\n",
       "      <th>0</th>\n",
       "      <td>5sLYAQS9sWQ PAGE1.json</td>\n",
       "      <td>5sLYAQS9sWQ</td>\n",
       "      <td>NaN</td>\n",
       "      <td>json</td>\n",
       "    </tr>\n",
       "    <tr>\n",
       "      <th>1</th>\n",
       "      <td>bxIF9X9k2IE PAGE1.json</td>\n",
       "      <td>bxIF9X9k2IE</td>\n",
       "      <td>NaN</td>\n",
       "      <td>json</td>\n",
       "    </tr>\n",
       "    <tr>\n",
       "      <th>2</th>\n",
       "      <td>fUpChfNN5Uo PAGE1.json</td>\n",
       "      <td>fUpChfNN5Uo</td>\n",
       "      <td>NaN</td>\n",
       "      <td>json</td>\n",
       "    </tr>\n",
       "    <tr>\n",
       "      <th>3</th>\n",
       "      <td>fUpChfNN5Uo PAGE2.json</td>\n",
       "      <td>fUpChfNN5Uo</td>\n",
       "      <td>NaN</td>\n",
       "      <td>json</td>\n",
       "    </tr>\n",
       "    <tr>\n",
       "      <th>4</th>\n",
       "      <td>fUpChfNN5Uo PAGE3.json</td>\n",
       "      <td>fUpChfNN5Uo</td>\n",
       "      <td>NaN</td>\n",
       "      <td>json</td>\n",
       "    </tr>\n",
       "    <tr>\n",
       "      <th>5</th>\n",
       "      <td>fUpChfNN5Uo PAGE4.json</td>\n",
       "      <td>fUpChfNN5Uo</td>\n",
       "      <td>NaN</td>\n",
       "      <td>json</td>\n",
       "    </tr>\n",
       "    <tr>\n",
       "      <th>6</th>\n",
       "      <td>fUpChfNN5Uo PAGE5.json</td>\n",
       "      <td>fUpChfNN5Uo</td>\n",
       "      <td>NaN</td>\n",
       "      <td>json</td>\n",
       "    </tr>\n",
       "    <tr>\n",
       "      <th>7</th>\n",
       "      <td>IMU1V-JugKo PAGE1.json</td>\n",
       "      <td>IMU1V-JugKo</td>\n",
       "      <td>NaN</td>\n",
       "      <td>json</td>\n",
       "    </tr>\n",
       "    <tr>\n",
       "      <th>8</th>\n",
       "      <td>jVPd7lEvjtg PAGE1.json</td>\n",
       "      <td>jVPd7lEvjtg</td>\n",
       "      <td>2023-10-25T23:32:56.702Z</td>\n",
       "      <td>json</td>\n",
       "    </tr>\n",
       "    <tr>\n",
       "      <th>9</th>\n",
       "      <td>T8UXgR-EtoM PAGE1.json</td>\n",
       "      <td>T8UXgR-EtoM</td>\n",
       "      <td>2023-10-25T23:33:17.583Z</td>\n",
       "      <td>json</td>\n",
       "    </tr>\n",
       "    <tr>\n",
       "      <th>10</th>\n",
       "      <td>tBfIh3VQX2o PAGE1.json</td>\n",
       "      <td>tBfIh3VQX2o</td>\n",
       "      <td>NaN</td>\n",
       "      <td>json</td>\n",
       "    </tr>\n",
       "    <tr>\n",
       "      <th>11</th>\n",
       "      <td>tBfIh3VQX2o PAGE2.json</td>\n",
       "      <td>tBfIh3VQX2o</td>\n",
       "      <td>NaN</td>\n",
       "      <td>json</td>\n",
       "    </tr>\n",
       "    <tr>\n",
       "      <th>12</th>\n",
       "      <td>Y2hgEGPzTZY PAGE1.json</td>\n",
       "      <td>Y2hgEGPzTZY</td>\n",
       "      <td>NaN</td>\n",
       "      <td>json</td>\n",
       "    </tr>\n",
       "    <tr>\n",
       "      <th>13</th>\n",
       "      <td>Y2hgEGPzTZY PAGE2.json</td>\n",
       "      <td>Y2hgEGPzTZY</td>\n",
       "      <td>NaN</td>\n",
       "      <td>json</td>\n",
       "    </tr>\n",
       "    <tr>\n",
       "      <th>14</th>\n",
       "      <td>ywZXpfdqg1o PAGE1.json</td>\n",
       "      <td>ywZXpfdqg1o</td>\n",
       "      <td>2023-10-25T23:33:36.778Z</td>\n",
       "      <td>json</td>\n",
       "    </tr>\n",
       "    <tr>\n",
       "      <th>15</th>\n",
       "      <td>ywZXpfdqg1o PAGE2.json</td>\n",
       "      <td>ywZXpfdqg1o</td>\n",
       "      <td>2023-10-25T23:33:37.503Z</td>\n",
       "      <td>json</td>\n",
       "    </tr>\n",
       "    <tr>\n",
       "      <th>16</th>\n",
       "      <td>ywZXpfdqg1o PAGE3.json</td>\n",
       "      <td>ywZXpfdqg1o</td>\n",
       "      <td>2023-10-25T23:33:38.233Z</td>\n",
       "      <td>json</td>\n",
       "    </tr>\n",
       "    <tr>\n",
       "      <th>17</th>\n",
       "      <td>zxQyTK8quyY PAGE1.json</td>\n",
       "      <td>zxQyTK8quyY</td>\n",
       "      <td>NaN</td>\n",
       "      <td>json</td>\n",
       "    </tr>\n",
       "    <tr>\n",
       "      <th>18</th>\n",
       "      <td>zxQyTK8quyY PAGE2.json</td>\n",
       "      <td>zxQyTK8quyY</td>\n",
       "      <td>NaN</td>\n",
       "      <td>json</td>\n",
       "    </tr>\n",
       "    <tr>\n",
       "      <th>19</th>\n",
       "      <td>zxQyTK8quyY PAGE3.json</td>\n",
       "      <td>zxQyTK8quyY</td>\n",
       "      <td>NaN</td>\n",
       "      <td>json</td>\n",
       "    </tr>\n",
       "    <tr>\n",
       "      <th>20</th>\n",
       "      <td>_DGn-7134i0 PAGE1.json</td>\n",
       "      <td>_DGn-7134i0</td>\n",
       "      <td>2023-10-25T23:32:25.342Z</td>\n",
       "      <td>json</td>\n",
       "    </tr>\n",
       "  </tbody>\n",
       "</table>\n",
       "</div>"
      ],
      "text/plain": [
       "                  filename     video_id                created_at format\n",
       "0   5sLYAQS9sWQ PAGE1.json  5sLYAQS9sWQ                       NaN   json\n",
       "1   bxIF9X9k2IE PAGE1.json  bxIF9X9k2IE                       NaN   json\n",
       "2   fUpChfNN5Uo PAGE1.json  fUpChfNN5Uo                       NaN   json\n",
       "3   fUpChfNN5Uo PAGE2.json  fUpChfNN5Uo                       NaN   json\n",
       "4   fUpChfNN5Uo PAGE3.json  fUpChfNN5Uo                       NaN   json\n",
       "5   fUpChfNN5Uo PAGE4.json  fUpChfNN5Uo                       NaN   json\n",
       "6   fUpChfNN5Uo PAGE5.json  fUpChfNN5Uo                       NaN   json\n",
       "7   IMU1V-JugKo PAGE1.json  IMU1V-JugKo                       NaN   json\n",
       "8   jVPd7lEvjtg PAGE1.json  jVPd7lEvjtg  2023-10-25T23:32:56.702Z   json\n",
       "9   T8UXgR-EtoM PAGE1.json  T8UXgR-EtoM  2023-10-25T23:33:17.583Z   json\n",
       "10  tBfIh3VQX2o PAGE1.json  tBfIh3VQX2o                       NaN   json\n",
       "11  tBfIh3VQX2o PAGE2.json  tBfIh3VQX2o                       NaN   json\n",
       "12  Y2hgEGPzTZY PAGE1.json  Y2hgEGPzTZY                       NaN   json\n",
       "13  Y2hgEGPzTZY PAGE2.json  Y2hgEGPzTZY                       NaN   json\n",
       "14  ywZXpfdqg1o PAGE1.json  ywZXpfdqg1o  2023-10-25T23:33:36.778Z   json\n",
       "15  ywZXpfdqg1o PAGE2.json  ywZXpfdqg1o  2023-10-25T23:33:37.503Z   json\n",
       "16  ywZXpfdqg1o PAGE3.json  ywZXpfdqg1o  2023-10-25T23:33:38.233Z   json\n",
       "17  zxQyTK8quyY PAGE1.json  zxQyTK8quyY                       NaN   json\n",
       "18  zxQyTK8quyY PAGE2.json  zxQyTK8quyY                       NaN   json\n",
       "19  zxQyTK8quyY PAGE3.json  zxQyTK8quyY                       NaN   json\n",
       "20  _DGn-7134i0 PAGE1.json  _DGn-7134i0  2023-10-25T23:32:25.342Z   json"
      ]
     },
     "execution_count": 3,
     "metadata": {},
     "output_type": "execute_result"
    }
   ],
   "source": [
    "videos_manifest_df = pd.read_csv('./../data/raw/raw_videos_manifest.csv')\n",
    "videos_manifest_filenames = videos_manifest_df[\"filename\"].to_numpy()\n",
    "video_raw_directory = \".././data/raw/videos/\"\n",
    "\n",
    "comments_manifest_df = pd.read_csv('./../data/raw/raw_comments_manifest.csv')\n",
    "comments_manifest_filenames = comments_manifest_df[\"filename\"].to_numpy()\n",
    "comments_manifest_video_ids = comments_manifest_df[\"video_id\"].to_numpy()\n",
    "comments_raw_directory = \".././data/raw/comments-threads/\"\n",
    "\n",
    "comments_manifest_df"
   ]
  },
  {
   "cell_type": "markdown",
   "id": "96bb35dc-a38c-4bc3-b4a0-bee95cb9ec37",
   "metadata": {},
   "source": [
    "## Configure PostgreSQL Environment Variables"
   ]
  },
  {
   "cell_type": "code",
   "execution_count": 4,
   "id": "4a787bc1-089c-482e-84f3-4535b00e4742",
   "metadata": {},
   "outputs": [],
   "source": [
    "config = AutoConfig(search_path='.')\n",
    "db_params = {\n",
    "    \"host\": \"localhost\",\n",
    "    \"port\": config(\"DB_PORT\"),\n",
    "    \"database\": \"YouTubeSentimentData\",\n",
    "    \"user\": config(\"DB_USER\"),\n",
    "    \"password\": config(\"DB_PASSWORD\")\n",
    "}"
   ]
  },
  {
   "cell_type": "markdown",
   "id": "996409a1-36a3-4735-bab7-cfa857898e25",
   "metadata": {},
   "source": [
    "### Read Data Queries"
   ]
  },
  {
   "cell_type": "code",
   "execution_count": 31,
   "id": "c90efed3-a1d6-4dc3-adbc-67ef6aabee64",
   "metadata": {},
   "outputs": [
    {
     "name": "stdout",
     "output_type": "stream",
     "text": [
      "Database connection is closed\n",
      "Database connection is closed\n"
     ]
    }
   ],
   "source": [
    "all_videos = select_video(db_params)\n",
    "all_comments = select_comment(db_params)"
   ]
  },
  {
   "cell_type": "markdown",
   "id": "c55f3754-0d41-481c-8bd0-321b30ce4aa6",
   "metadata": {},
   "source": [
    "### Insert Comment Query"
   ]
  },
  {
   "cell_type": "code",
   "execution_count": 7,
   "id": "af3c4c4b-1766-4c69-8a27-1be5ecd81bdb",
   "metadata": {
    "scrolled": true
   },
   "outputs": [
    {
     "name": "stdout",
     "output_type": "stream",
     "text": [
      "Error connecting to the database: duplicate key value violates unique constraint \"comments_pkey\"\n",
      "DETAIL:  Key (comment_id)=(UgxchCXrsA-Nvu6NUah4AaABAg) already exists.\n",
      "\n",
      "Database connection is closed\n",
      "Error connecting to the database: duplicate key value violates unique constraint \"comments_pkey\"\n",
      "DETAIL:  Key (comment_id)=(UgxPsiKk2oEu5gt0bRp4AaABAg) already exists.\n",
      "\n",
      "Database connection is closed\n",
      "Error connecting to the database: duplicate key value violates unique constraint \"comments_pkey\"\n",
      "DETAIL:  Key (comment_id)=(Ugzd68e_8fmF71TZwzl4AaABAg) already exists.\n",
      "\n",
      "Database connection is closed\n",
      "Error connecting to the database: duplicate key value violates unique constraint \"comments_pkey\"\n",
      "DETAIL:  Key (comment_id)=(Ugy0Tte-D5Gxf2txoTN4AaABAg) already exists.\n",
      "\n",
      "Database connection is closed\n",
      "Error connecting to the database: duplicate key value violates unique constraint \"comments_pkey\"\n",
      "DETAIL:  Key (comment_id)=(UgxIdL5xa_B_2Icc1DR4AaABAg) already exists.\n",
      "\n",
      "Database connection is closed\n",
      "Error connecting to the database: duplicate key value violates unique constraint \"comments_pkey\"\n",
      "DETAIL:  Key (comment_id)=(Ugzwyj3n9z4B4cpWOFZ4AaABAg) already exists.\n",
      "\n",
      "Database connection is closed\n",
      "Error connecting to the database: duplicate key value violates unique constraint \"comments_pkey\"\n",
      "DETAIL:  Key (comment_id)=(UgzL6vyztm6_qI7JvDd4AaABAg.9uCXSI9iVK19uwJgna8-Mv) already exists.\n",
      "\n",
      "Database connection is closed\n",
      "Error connecting to the database: duplicate key value violates unique constraint \"comments_pkey\"\n",
      "DETAIL:  Key (comment_id)=(UgzL6vyztm6_qI7JvDd4AaABAg.9uCXSI9iVK19uGBehhFx54) already exists.\n",
      "\n",
      "Database connection is closed\n",
      "Error connecting to the database: duplicate key value violates unique constraint \"comments_pkey\"\n",
      "DETAIL:  Key (comment_id)=(UgzL6vyztm6_qI7JvDd4AaABAg) already exists.\n",
      "\n",
      "Database connection is closed\n",
      "Error connecting to the database: duplicate key value violates unique constraint \"comments_pkey\"\n",
      "DETAIL:  Key (comment_id)=(UgxvzE-6pTfGmfqdaKd4AaABAg.9u5SWKtO7aO9u9wcUEx3b4) already exists.\n",
      "\n",
      "Database connection is closed\n",
      "Error connecting to the database: duplicate key value violates unique constraint \"comments_pkey\"\n",
      "DETAIL:  Key (comment_id)=(UgxvzE-6pTfGmfqdaKd4AaABAg) already exists.\n",
      "\n",
      "Database connection is closed\n",
      "Error connecting to the database: duplicate key value violates unique constraint \"comments_pkey\"\n",
      "DETAIL:  Key (comment_id)=(UgxSMzrlhSGFv4wb9kJ4AaABAg.9u-nNZnyJOn9uGBHZx7CtW) already exists.\n",
      "\n",
      "Database connection is closed\n",
      "Error connecting to the database: duplicate key value violates unique constraint \"comments_pkey\"\n",
      "DETAIL:  Key (comment_id)=(UgxSMzrlhSGFv4wb9kJ4AaABAg) already exists.\n",
      "\n",
      "Database connection is closed\n",
      "Error connecting to the database: duplicate key value violates unique constraint \"comments_pkey\"\n",
      "DETAIL:  Key (comment_id)=(UgyqD7E_YSKa_pANLIR4AaABAg.9txPi2AH2Kf9txyYUhjlNt) already exists.\n",
      "\n",
      "Database connection is closed\n",
      "Error connecting to the database: duplicate key value violates unique constraint \"comments_pkey\"\n",
      "DETAIL:  Key (comment_id)=(UgyqD7E_YSKa_pANLIR4AaABAg) already exists.\n",
      "\n",
      "Database connection is closed\n",
      "Error connecting to the database: duplicate key value violates unique constraint \"comments_pkey\"\n",
      "DETAIL:  Key (comment_id)=(UgydJw-F_lT7hHtBKZJ4AaABAg) already exists.\n",
      "\n",
      "Database connection is closed\n",
      "Error connecting to the database: duplicate key value violates unique constraint \"comments_pkey\"\n",
      "DETAIL:  Key (comment_id)=(Ugzv-fpmDjrpf9YZr6B4AaABAg.9tdL-I1kwzV9vTOHbl5VmC) already exists.\n",
      "\n",
      "Database connection is closed\n",
      "Error connecting to the database: duplicate key value violates unique constraint \"comments_pkey\"\n",
      "DETAIL:  Key (comment_id)=(Ugzv-fpmDjrpf9YZr6B4AaABAg.9tdL-I1kwzV9tgMmZ3igkV) already exists.\n",
      "\n",
      "Database connection is closed\n",
      "Error connecting to the database: duplicate key value violates unique constraint \"comments_pkey\"\n",
      "DETAIL:  Key (comment_id)=(Ugzv-fpmDjrpf9YZr6B4AaABAg) already exists.\n",
      "\n",
      "Database connection is closed\n",
      "Error connecting to the database: duplicate key value violates unique constraint \"comments_pkey\"\n",
      "DETAIL:  Key (comment_id)=(UgwCJk6OedcNSLBrlGt4AaABAg) already exists.\n",
      "\n",
      "Database connection is closed\n",
      "Error connecting to the database: duplicate key value violates unique constraint \"comments_pkey\"\n",
      "DETAIL:  Key (comment_id)=(UgzkmkeVf5ISdnNGn714AaABAg) already exists.\n",
      "\n",
      "Database connection is closed\n",
      "Error connecting to the database: duplicate key value violates unique constraint \"comments_pkey\"\n",
      "DETAIL:  Key (comment_id)=(UgwYri-Xd9z_nzsnWIR4AaABAg.9subMwjEOGQ9sutOia5Tlf) already exists.\n",
      "\n",
      "Database connection is closed\n",
      "Error connecting to the database: duplicate key value violates unique constraint \"comments_pkey\"\n",
      "DETAIL:  Key (comment_id)=(UgwYri-Xd9z_nzsnWIR4AaABAg) already exists.\n",
      "\n",
      "Database connection is closed\n",
      "Error connecting to the database: duplicate key value violates unique constraint \"comments_pkey\"\n",
      "DETAIL:  Key (comment_id)=(UgzYyopSJV-KPaEkYdZ4AaABAg) already exists.\n",
      "\n",
      "Database connection is closed\n",
      "Error connecting to the database: duplicate key value violates unique constraint \"comments_pkey\"\n",
      "DETAIL:  Key (comment_id)=(Ugzvr_LHzju_xxc71wl4AaABAg) already exists.\n",
      "\n",
      "Database connection is closed\n",
      "Error connecting to the database: duplicate key value violates unique constraint \"comments_pkey\"\n",
      "DETAIL:  Key (comment_id)=(UgwA5yYYP5D2_xw4_IN4AaABAg.9si55LUST1C9skkf3GohPa) already exists.\n",
      "\n",
      "Database connection is closed\n",
      "Error connecting to the database: duplicate key value violates unique constraint \"comments_pkey\"\n",
      "DETAIL:  Key (comment_id)=(UgwA5yYYP5D2_xw4_IN4AaABAg) already exists.\n",
      "\n",
      "Database connection is closed\n",
      "Error connecting to the database: duplicate key value violates unique constraint \"comments_pkey\"\n",
      "DETAIL:  Key (comment_id)=(Ugxaj80tLyh_UNpVHw54AaABAg.9vUaODr6mOq9vUeMl8z72M) already exists.\n",
      "\n",
      "Database connection is closed\n",
      "Error connecting to the database: duplicate key value violates unique constraint \"comments_pkey\"\n",
      "DETAIL:  Key (comment_id)=(Ugxaj80tLyh_UNpVHw54AaABAg) already exists.\n",
      "\n",
      "Database connection is closed\n",
      "Error connecting to the database: duplicate key value violates unique constraint \"comments_pkey\"\n",
      "DETAIL:  Key (comment_id)=(UgyfA8s4fu96pBf_zv14AaABAg) already exists.\n",
      "\n",
      "Database connection is closed\n",
      "Error connecting to the database: duplicate key value violates unique constraint \"comments_pkey\"\n",
      "DETAIL:  Key (comment_id)=(UgzvdvjqJeRi1zyVcm94AaABAg) already exists.\n",
      "\n",
      "Database connection is closed\n",
      "Error connecting to the database: duplicate key value violates unique constraint \"comments_pkey\"\n",
      "DETAIL:  Key (comment_id)=(UgymY4uzmJKm1rJPPGF4AaABAg) already exists.\n",
      "\n",
      "Database connection is closed\n",
      "Error connecting to the database: duplicate key value violates unique constraint \"comments_pkey\"\n",
      "DETAIL:  Key (comment_id)=(UgwM2Z9Btc-Kl6L6OgV4AaABAg) already exists.\n",
      "\n",
      "Database connection is closed\n",
      "Error connecting to the database: duplicate key value violates unique constraint \"comments_pkey\"\n",
      "DETAIL:  Key (comment_id)=(UgyXRcZV7Ti0bx44WpR4AaABAg) already exists.\n",
      "\n",
      "Database connection is closed\n",
      "Error connecting to the database: duplicate key value violates unique constraint \"comments_pkey\"\n",
      "DETAIL:  Key (comment_id)=(UgxY6hVEhmAxvo-1Mu54AaABAg) already exists.\n",
      "\n",
      "Database connection is closed\n",
      "Error connecting to the database: duplicate key value violates unique constraint \"comments_pkey\"\n",
      "DETAIL:  Key (comment_id)=(UgwAzuABI8NCeueEb-Z4AaABAg) already exists.\n",
      "\n",
      "Database connection is closed\n",
      "Error connecting to the database: duplicate key value violates unique constraint \"comments_pkey\"\n",
      "DETAIL:  Key (comment_id)=(UgwDRGWpj-_3j5ZsH-t4AaABAg) already exists.\n",
      "\n",
      "Database connection is closed\n",
      "Error connecting to the database: duplicate key value violates unique constraint \"comments_pkey\"\n",
      "DETAIL:  Key (comment_id)=(UgzsOglHxUOSGg-GZp94AaABAg) already exists.\n",
      "\n",
      "Database connection is closed\n",
      "Error connecting to the database: duplicate key value violates unique constraint \"comments_pkey\"\n",
      "DETAIL:  Key (comment_id)=(UgwOQ8_Poz6WV4jPFbt4AaABAg) already exists.\n",
      "\n",
      "Database connection is closed\n",
      "Error connecting to the database: duplicate key value violates unique constraint \"comments_pkey\"\n",
      "DETAIL:  Key (comment_id)=(UgwMJP4D5ROVlTKujIx4AaABAg) already exists.\n",
      "\n",
      "Database connection is closed\n",
      "Error connecting to the database: duplicate key value violates unique constraint \"comments_pkey\"\n",
      "DETAIL:  Key (comment_id)=(UgwrNZ5UkOEpoP-90ix4AaABAg) already exists.\n",
      "\n",
      "Database connection is closed\n",
      "Error connecting to the database: duplicate key value violates unique constraint \"comments_pkey\"\n",
      "DETAIL:  Key (comment_id)=(UgyJYb4jXDwlHI6AuLF4AaABAg) already exists.\n",
      "\n",
      "Database connection is closed\n",
      "Error connecting to the database: duplicate key value violates unique constraint \"comments_pkey\"\n",
      "DETAIL:  Key (comment_id)=(Ugy7mXLWA7JxtW7ZBtF4AaABAg) already exists.\n",
      "\n",
      "Database connection is closed\n",
      "Error connecting to the database: duplicate key value violates unique constraint \"comments_pkey\"\n",
      "DETAIL:  Key (comment_id)=(UgxhcunWyLyqyXn4dYV4AaABAg) already exists.\n",
      "\n",
      "Database connection is closed\n",
      "Error connecting to the database: duplicate key value violates unique constraint \"comments_pkey\"\n",
      "DETAIL:  Key (comment_id)=(Ugz7b3dcuW4cTiAkzrd4AaABAg) already exists.\n",
      "\n",
      "Database connection is closed\n",
      "Error connecting to the database: duplicate key value violates unique constraint \"comments_pkey\"\n",
      "DETAIL:  Key (comment_id)=(Ugy6FldaQ5-FRLyTOLl4AaABAg) already exists.\n",
      "\n",
      "Database connection is closed\n",
      "Error connecting to the database: duplicate key value violates unique constraint \"comments_pkey\"\n",
      "DETAIL:  Key (comment_id)=(Ugxe1mzHuOI1vhX_AyN4AaABAg.9urL89SCw9V9v2d8E6EYW0) already exists.\n",
      "\n",
      "Database connection is closed\n",
      "Error connecting to the database: duplicate key value violates unique constraint \"comments_pkey\"\n",
      "DETAIL:  Key (comment_id)=(Ugxe1mzHuOI1vhX_AyN4AaABAg.9urL89SCw9V9v2czXB-TVu) already exists.\n",
      "\n",
      "Database connection is closed\n",
      "Error connecting to the database: duplicate key value violates unique constraint \"comments_pkey\"\n",
      "DETAIL:  Key (comment_id)=(Ugxe1mzHuOI1vhX_AyN4AaABAg) already exists.\n",
      "\n",
      "Database connection is closed\n",
      "Error connecting to the database: duplicate key value violates unique constraint \"comments_pkey\"\n",
      "DETAIL:  Key (comment_id)=(UgzWl-O523g1tZnIRWd4AaABAg) already exists.\n",
      "\n",
      "Database connection is closed\n",
      "Error connecting to the database: duplicate key value violates unique constraint \"comments_pkey\"\n",
      "DETAIL:  Key (comment_id)=(UgxX4cgKpnnxkoW9nxN4AaABAg) already exists.\n",
      "\n",
      "Database connection is closed\n",
      "Error connecting to the database: duplicate key value violates unique constraint \"comments_pkey\"\n",
      "DETAIL:  Key (comment_id)=(UgxqLdHPKpEl7Eat4q54AaABAg) already exists.\n",
      "\n",
      "Database connection is closed\n",
      "Error connecting to the database: duplicate key value violates unique constraint \"comments_pkey\"\n",
      "DETAIL:  Key (comment_id)=(Ugy-H4nkPUK9cedwMqt4AaABAg) already exists.\n",
      "\n",
      "Database connection is closed\n",
      "Error connecting to the database: duplicate key value violates unique constraint \"comments_pkey\"\n",
      "DETAIL:  Key (comment_id)=(UgzB1eLaw5rwldrIO_Z4AaABAg) already exists.\n",
      "\n",
      "Database connection is closed\n",
      "Database connection is closed\n"
     ]
    },
    {
     "ename": "KeyboardInterrupt",
     "evalue": "",
     "output_type": "error",
     "traceback": [
      "\u001b[1;31m---------------------------------------------------------------------------\u001b[0m",
      "\u001b[1;31mKeyboardInterrupt\u001b[0m                         Traceback (most recent call last)",
      "Cell \u001b[1;32mIn [7], line 4\u001b[0m\n\u001b[0;32m      1\u001b[0m comment_threads_path \u001b[38;5;241m=\u001b[39m os\u001b[38;5;241m.\u001b[39mpath\u001b[38;5;241m.\u001b[39mjoin(os\u001b[38;5;241m.\u001b[39mpath\u001b[38;5;241m.\u001b[39mdirname(os\u001b[38;5;241m.\u001b[39mgetcwd()), \u001b[38;5;124m\"\u001b[39m\u001b[38;5;124mdata\u001b[39m\u001b[38;5;124m\"\u001b[39m, \u001b[38;5;124m\"\u001b[39m\u001b[38;5;124mraw\u001b[39m\u001b[38;5;124m\"\u001b[39m, \u001b[38;5;124m\"\u001b[39m\u001b[38;5;124mcomment-threads\u001b[39m\u001b[38;5;124m\"\u001b[39m)\n\u001b[0;32m      2\u001b[0m file_paths \u001b[38;5;241m=\u001b[39m list_file_paths(comment_threads_path, comments_manifest_video_ids, comments_manifest_filenames)\n\u001b[1;32m----> 4\u001b[0m \u001b[43minsert_pages_of_comments\u001b[49m\u001b[43m(\u001b[49m\u001b[43mfile_paths\u001b[49m\u001b[43m,\u001b[49m\u001b[43m \u001b[49m\u001b[43mdb_params\u001b[49m\u001b[43m,\u001b[49m\u001b[43m \u001b[49m\u001b[43mreturn_all_comment_thread_data\u001b[49m\u001b[43m)\u001b[49m\n\u001b[0;32m      6\u001b[0m \u001b[38;5;66;03m#for file_path in file_paths:\u001b[39;00m\n\u001b[0;32m      7\u001b[0m \u001b[38;5;66;03m#    comments_full = return_all_comment_thread_data(file_path)\u001b[39;00m\n\u001b[0;32m      8\u001b[0m \u001b[38;5;66;03m#    for comment in comments_full:\u001b[39;00m\n\u001b[0;32m      9\u001b[0m \u001b[38;5;66;03m#        insert_comment(db_params, comment)\u001b[39;00m\n",
      "File \u001b[1;32m~\\Documents\\MYDATA\\Portfolio Projects\\YouTube Sentiment App\\analyses\\src\\comments\\comment_insert.py:7\u001b[0m, in \u001b[0;36minsert_pages_of_comments\u001b[1;34m(file_paths, db_params, return_all_comment_thread_data)\u001b[0m\n\u001b[0;32m      5\u001b[0m comments_full \u001b[38;5;241m=\u001b[39m return_all_comment_thread_data(file_path)\n\u001b[0;32m      6\u001b[0m \u001b[38;5;28;01mfor\u001b[39;00m comment \u001b[38;5;129;01min\u001b[39;00m comments_full:\n\u001b[1;32m----> 7\u001b[0m     \u001b[43minsert_comment\u001b[49m\u001b[43m(\u001b[49m\u001b[43mdb_params\u001b[49m\u001b[43m,\u001b[49m\u001b[43m \u001b[49m\u001b[43mcomment\u001b[49m\u001b[43m)\u001b[49m\n",
      "File \u001b[1;32m~\\Documents\\MYDATA\\Portfolio Projects\\YouTube Sentiment App\\analyses\\src\\comments\\comment_insert.py:26\u001b[0m, in \u001b[0;36minsert_comment\u001b[1;34m(db_params, column_values)\u001b[0m\n\u001b[0;32m     23\u001b[0m values \u001b[38;5;241m=\u001b[39m [column_values[column] \u001b[38;5;28;01mfor\u001b[39;00m column \u001b[38;5;129;01min\u001b[39;00m column_values\u001b[38;5;241m.\u001b[39mkeys()]\n\u001b[0;32m     25\u001b[0m \u001b[38;5;66;03m# Execute the dynamic SQL query\u001b[39;00m\n\u001b[1;32m---> 26\u001b[0m \u001b[43mcursor\u001b[49m\u001b[38;5;241;43m.\u001b[39;49m\u001b[43mexecute\u001b[49m\u001b[43m(\u001b[49m\u001b[43msql\u001b[49m\u001b[43m,\u001b[49m\u001b[43m \u001b[49m\u001b[43mvalues\u001b[49m\u001b[43m)\u001b[49m\n\u001b[0;32m     28\u001b[0m \u001b[38;5;66;03m# Commit the transaction\u001b[39;00m\n\u001b[0;32m     29\u001b[0m connection\u001b[38;5;241m.\u001b[39mcommit()\n",
      "File \u001b[1;32m~\\AppData\\Local\\Programs\\Python\\Python310\\lib\\encodings\\utf_8.py:15\u001b[0m, in \u001b[0;36mdecode\u001b[1;34m(input, errors)\u001b[0m\n\u001b[0;32m     11\u001b[0m \u001b[38;5;66;03m### Codec APIs\u001b[39;00m\n\u001b[0;32m     13\u001b[0m encode \u001b[38;5;241m=\u001b[39m codecs\u001b[38;5;241m.\u001b[39mutf_8_encode\n\u001b[1;32m---> 15\u001b[0m \u001b[38;5;28;01mdef\u001b[39;00m \u001b[38;5;21mdecode\u001b[39m(\u001b[38;5;28minput\u001b[39m, errors\u001b[38;5;241m=\u001b[39m\u001b[38;5;124m'\u001b[39m\u001b[38;5;124mstrict\u001b[39m\u001b[38;5;124m'\u001b[39m):\n\u001b[0;32m     16\u001b[0m     \u001b[38;5;28;01mreturn\u001b[39;00m codecs\u001b[38;5;241m.\u001b[39mutf_8_decode(\u001b[38;5;28minput\u001b[39m, errors, \u001b[38;5;28;01mTrue\u001b[39;00m)\n\u001b[0;32m     18\u001b[0m \u001b[38;5;28;01mclass\u001b[39;00m \u001b[38;5;21;01mIncrementalEncoder\u001b[39;00m(codecs\u001b[38;5;241m.\u001b[39mIncrementalEncoder):\n",
      "\u001b[1;31mKeyboardInterrupt\u001b[0m: "
     ]
    }
   ],
   "source": [
    "comment_threads_path = os.path.join(os.path.dirname(os.getcwd()), \"data\", \"raw\", \"comment-threads\")\n",
    "file_paths = list_file_paths(comment_threads_path, comments_manifest_video_ids, comments_manifest_filenames)\n",
    "\n",
    "insert_pages_of_comments(file_paths, db_params, return_all_comment_thread_data)\n"
   ]
  },
  {
   "cell_type": "markdown",
   "id": "66ad335b-084f-443c-9d11-1b5d76f9d10a",
   "metadata": {},
   "source": [
    "### Insert Videos Query"
   ]
  },
  {
   "cell_type": "code",
   "execution_count": null,
   "id": "64fde356-95dd-4fb8-8b69-79c753995597",
   "metadata": {
    "scrolled": true
   },
   "outputs": [],
   "source": [
    "insert_multiple_video(db_params, videos_manifest_filenames, video_raw_directory, return_all_video_section_data, parse_all_video_section_data)"
   ]
  },
  {
   "cell_type": "markdown",
   "id": "02e0634e-e28f-46ad-b054-9106b8e49844",
   "metadata": {},
   "source": [
    "### Convert Data to Pandas Dataframes"
   ]
  },
  {
   "cell_type": "code",
   "execution_count": 47,
   "id": "bbbd0956-f1d8-49f9-9a8a-bd14b403f5c8",
   "metadata": {
    "scrolled": true
   },
   "outputs": [],
   "source": [
    "all_videos_df = pd.DataFrame(all_videos)\n",
    "all_comments_df = pd.DataFrame(all_comments)"
   ]
  },
  {
   "cell_type": "markdown",
   "id": "c5c2837c-519a-4b38-99e9-d921e7acfdc3",
   "metadata": {},
   "source": [
    "# PLOTS"
   ]
  },
  {
   "cell_type": "markdown",
   "id": "6d8f636f-739f-4819-93a6-08af544b84ab",
   "metadata": {
    "jp-MarkdownHeadingCollapsed": true
   },
   "source": [
    "### Add Upload Year Column"
   ]
  },
  {
   "cell_type": "code",
   "execution_count": null,
   "id": "c6574053-e85a-4ee3-bcec-7746b6df2d96",
   "metadata": {},
   "outputs": [],
   "source": [
    "# Convert the \"uploadDate\" column to datetime format\n",
    "all_videos_df[\"uploadDate\"] = pd.to_datetime(all_videos_df[1])\n",
    "all_videos_df[\"Year\"] = all_videos_df[\"uploadDate\"].dt.year\n",
    "\n",
    "all_videos_df[\"uploadDate\"]\n",
    "all_videos_df[\"Year\"]"
   ]
  },
  {
   "cell_type": "markdown",
   "id": "ac6f4d10-5759-4cb1-83dc-7e06f93a5727",
   "metadata": {
    "jp-MarkdownHeadingCollapsed": true
   },
   "source": [
    "### Frequency of Year Upload Plot"
   ]
  },
  {
   "cell_type": "code",
   "execution_count": null,
   "id": "9d3a901f-7d73-4679-8a33-dc991e5f9d18",
   "metadata": {},
   "outputs": [],
   "source": [
    "yearly_counts = all_videos_df[\"Year\"].value_counts().sort_index()\n",
    "yearly_counts.plot(kind=\"bar\", xlabel=\"Year\", ylabel=\"Upload Frequency\", title=\"Upload Frequency by Year\")"
   ]
  },
  {
   "cell_type": "markdown",
   "id": "a15f80f4-3583-4514-b161-88282ff9a408",
   "metadata": {
    "jp-MarkdownHeadingCollapsed": true
   },
   "source": [
    "### Frequency of Comment Like Plot"
   ]
  },
  {
   "cell_type": "code",
   "execution_count": 46,
   "id": "b1e413f3-23ec-4e0d-88b2-502726af301d",
   "metadata": {},
   "outputs": [
    {
     "data": {
      "text/plain": [
       "<AxesSubplot: title={'center': 'Frequency of Count of Likes'}, xlabel='Count of Likes', ylabel='Frequency'>"
      ]
     },
     "execution_count": 46,
     "metadata": {},
     "output_type": "execute_result"
    },
    {
     "data": {
      "image/png": "[encoded data removed]",
      "text/plain": [
       "<Figure size 640x480 with 1 Axes>"
      ]
     },
     "metadata": {},
     "output_type": "display_data"
    }
   ],
   "source": [
    "like_counts = all_comments_df[12].value_counts().sort_index()\n",
    "like_counts.plot(kind=\"bar\", xlabel=\"Count of Likes\", ylabel=\"Frequency\", title=\"Frequency of Count of Likes\")"
   ]
  },
  {
   "cell_type": "code",
   "execution_count": null,
   "id": "61651790-29a8-48d8-ab02-0230e9297aa0",
   "metadata": {},
   "outputs": [],
   "source": [
    "# FROM POSTGRES DATABASE\n",
    "#tags_corpus = create_tags_corpus(db_params, \"../sql/video/video_read_tags.SQL\")\n",
    "#print(tags_corpus)"
   ]
  }
 ],
 "metadata": {
  "kernelspec": {
   "display_name": "Python 3 (ipykernel)",
   "language": "python",
   "name": "python3"
  },
  "language_info": {
   "codemirror_mode": {
    "name": "ipython",
    "version": 3
   },
   "file_extension": ".py",
   "mimetype": "text/x-python",
   "name": "python",
   "nbconvert_exporter": "python",
   "pygments_lexer": "ipython3",
   "version": "3.10.5"
  }
 },
 "nbformat": 4,
 "nbformat_minor": 5
}
