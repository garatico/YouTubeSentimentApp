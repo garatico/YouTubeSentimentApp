{
 "cells": [
  {
   "cell_type": "markdown",
   "id": "e180eb1d-40eb-4acf-978d-ca03cc56198b",
   "metadata": {},
   "source": [
    "## Library Imports"
   ]
  },
  {
   "cell_type": "code",
   "execution_count": 61,
   "id": "8e677832-4430-4ede-aff4-2251fea53dc1",
   "metadata": {},
   "outputs": [],
   "source": [
    "from decouple import AutoConfig\n",
    "import os\n",
    "import pandas as pd\n",
    "import matplotlib.pyplot as plt"
   ]
  },
  {
   "cell_type": "markdown",
   "id": "fdd4df0b-b5d9-4cc6-ac2f-1afb42123fc9",
   "metadata": {},
   "source": [
    "## Functional Imports"
   ]
  },
  {
   "cell_type": "code",
   "execution_count": 62,
   "id": "0d132cf7-7fc5-4085-95d0-5cd548bf317d",
   "metadata": {},
   "outputs": [],
   "source": [
    "from src.video.video_select import select_video\n",
    "from src.video.video_insert import insert_multiple_video\n",
    "from src.videos_manifest import list_files_in_directory\n",
    "from src.video.youtube_video import *"
   ]
  },
  {
   "cell_type": "markdown",
   "id": "4160d485-20b9-485f-ac13-3ea8f8d544ca",
   "metadata": {},
   "source": [
    "### Load Manifest Data"
   ]
  },
  {
   "cell_type": "code",
   "execution_count": 63,
   "id": "a1457204-9322-4dfe-99aa-0dabd86d73bb",
   "metadata": {},
   "outputs": [],
   "source": [
    "videos_manifest_df = pd.read_csv('./../data/raw/raw_videos_manifest.csv')\n",
    "videos_manifest_filenames = videos_manifest_df[\"filename\"].to_numpy()\n",
    "video_raw_directory = \".././data/raw/videos/\""
   ]
  },
  {
   "cell_type": "markdown",
   "id": "96bb35dc-a38c-4bc3-b4a0-bee95cb9ec37",
   "metadata": {},
   "source": [
    "## Configure PostgreSQL Environment Variables"
   ]
  },
  {
   "cell_type": "code",
   "execution_count": 64,
   "id": "4a787bc1-089c-482e-84f3-4535b00e4742",
   "metadata": {},
   "outputs": [],
   "source": [
    "config = AutoConfig(search_path='.')\n",
    "db_params = {\n",
    "    \"host\": \"localhost\",\n",
    "    \"port\": config(\"DB_PORT\"),\n",
    "    \"database\": \"YouTubeSentimentData\",\n",
    "    \"user\": config(\"DB_USER\"),\n",
    "    \"password\": config(\"DB_PASSWORD\")\n",
    "}"
   ]
  },
  {
   "cell_type": "markdown",
   "id": "996409a1-36a3-4735-bab7-cfa857898e25",
   "metadata": {},
   "source": [
    "### Read Videos Query"
   ]
  },
  {
   "cell_type": "code",
   "execution_count": 67,
   "id": "c90efed3-a1d6-4dc3-adbc-67ef6aabee64",
   "metadata": {},
   "outputs": [
    {
     "name": "stdout",
     "output_type": "stream",
     "text": [
      "Database connection is closed\n"
     ]
    }
   ],
   "source": [
    "all_videos = select_video(db_params)"
   ]
  },
  {
   "cell_type": "markdown",
   "id": "66ad335b-084f-443c-9d11-1b5d76f9d10a",
   "metadata": {},
   "source": [
    "### Insert Videos Query"
   ]
  },
  {
   "cell_type": "code",
   "execution_count": 66,
   "id": "64fde356-95dd-4fb8-8b69-79c753995597",
   "metadata": {
    "scrolled": true
   },
   "outputs": [
    {
     "name": "stdout",
     "output_type": "stream",
     "text": [
      "Database connection is closed\n",
      "Database connection is closed\n",
      "Database connection is closed\n",
      "Database connection is closed\n",
      "Database connection is closed\n",
      "Database connection is closed\n",
      "Database connection is closed\n",
      "Database connection is closed\n",
      "Database connection is closed\n",
      "Database connection is closed\n",
      "Database connection is closed\n",
      "Database connection is closed\n",
      "Database connection is closed\n",
      "Database connection is closed\n"
     ]
    }
   ],
   "source": [
    "insert_multiple_video(db_params, videos_manifest_filenames, video_raw_directory, return_all_video_section_data, parse_all_video_section_data)"
   ]
  },
  {
   "cell_type": "markdown",
   "id": "02e0634e-e28f-46ad-b054-9106b8e49844",
   "metadata": {},
   "source": [
    "### Convert Data to Pandas Dataframes"
   ]
  },
  {
   "cell_type": "code",
   "execution_count": 68,
   "id": "bbbd0956-f1d8-49f9-9a8a-bd14b403f5c8",
   "metadata": {},
   "outputs": [
    {
     "name": "stdout",
     "output_type": "stream",
     "text": [
      "0    2023-09-19 12:00:34\n",
      "1    2020-06-10 15:49:15\n",
      "2    2023-05-16 16:18:56\n",
      "3    2021-05-05 15:00:20\n",
      "4    2016-09-20 21:27:59\n",
      "5    2023-03-07 15:07:09\n",
      "6    2018-12-12 09:26:01\n",
      "7    2023-10-13 12:00:32\n",
      "8    2022-06-10 18:19:05\n",
      "9    2023-02-14 00:54:35\n",
      "10   2022-06-04 16:32:07\n",
      "11   2018-10-29 10:45:00\n",
      "12   2020-07-29 13:48:00\n",
      "13   2023-10-03 12:00:26\n",
      "Name: 1, dtype: datetime64[ns]\n"
     ]
    }
   ],
   "source": [
    "all_videos_df = pd.DataFrame(all_videos)\n",
    "print(all_videos_df[1])"
   ]
  },
  {
   "cell_type": "markdown",
   "id": "6d8f636f-739f-4819-93a6-08af544b84ab",
   "metadata": {},
   "source": [
    "### Add Upload Year Column"
   ]
  },
  {
   "cell_type": "code",
   "execution_count": 69,
   "id": "c6574053-e85a-4ee3-bcec-7746b6df2d96",
   "metadata": {},
   "outputs": [
    {
     "data": {
      "text/plain": [
       "0     2023\n",
       "1     2020\n",
       "2     2023\n",
       "3     2021\n",
       "4     2016\n",
       "5     2023\n",
       "6     2018\n",
       "7     2023\n",
       "8     2022\n",
       "9     2023\n",
       "10    2022\n",
       "11    2018\n",
       "12    2020\n",
       "13    2023\n",
       "Name: Year, dtype: int64"
      ]
     },
     "execution_count": 69,
     "metadata": {},
     "output_type": "execute_result"
    }
   ],
   "source": [
    "# Convert the \"uploadDate\" column to datetime format\n",
    "all_videos_df[\"uploadDate\"] = pd.to_datetime(all_videos_df[1])\n",
    "all_videos_df[\"Year\"] = all_videos_df[\"uploadDate\"].dt.year\n",
    "\n",
    "all_videos_df[\"uploadDate\"]\n",
    "all_videos_df[\"Year\"]"
   ]
  },
  {
   "cell_type": "markdown",
   "id": "ac6f4d10-5759-4cb1-83dc-7e06f93a5727",
   "metadata": {},
   "source": [
    "### Frequency of Year Upload Plot"
   ]
  },
  {
   "cell_type": "code",
   "execution_count": 70,
   "id": "9d3a901f-7d73-4679-8a33-dc991e5f9d18",
   "metadata": {},
   "outputs": [
    {
     "data": {
      "text/plain": [
       "<AxesSubplot: title={'center': 'Upload Frequency by Year'}, xlabel='Year', ylabel='Upload Frequency'>"
      ]
     },
     "execution_count": 70,
     "metadata": {},
     "output_type": "execute_result"
    },
    {
     "data": {
      "image/png": "[encoded data removed]",
      "text/plain": [
       "<Figure size 640x480 with 1 Axes>"
      ]
     },
     "metadata": {},
     "output_type": "display_data"
    }
   ],
   "source": [
    "# Group the data by year and count the frequency of uploads\n",
    "yearly_counts = all_videos_df[\"Year\"].value_counts().sort_index()\n",
    "\n",
    "# Plot the frequency of uploads by year\n",
    "yearly_counts.plot(kind=\"bar\", xlabel=\"Year\", ylabel=\"Upload Frequency\", title=\"Upload Frequency by Year\")"
   ]
  },
  {
   "cell_type": "code",
   "execution_count": null,
   "id": "61651790-29a8-48d8-ab02-0230e9297aa0",
   "metadata": {},
   "outputs": [],
   "source": [
    "# FROM POSTGRES DATABASE\n",
    "#tags_corpus = create_tags_corpus(db_params, \"../sql/video/video_read_tags.SQL\")\n",
    "#print(tags_corpus)"
   ]
  }
 ],
 "metadata": {
  "kernelspec": {
   "display_name": "Python 3 (ipykernel)",
   "language": "python",
   "name": "python3"
  },
  "language_info": {
   "codemirror_mode": {
    "name": "ipython",
    "version": 3
   },
   "file_extension": ".py",
   "mimetype": "text/x-python",
   "name": "python",
   "nbconvert_exporter": "python",
   "pygments_lexer": "ipython3",
   "version": "3.10.5"
  }
 },
 "nbformat": 4,
 "nbformat_minor": 5
}
