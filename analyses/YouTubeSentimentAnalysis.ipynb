{
 "cells": [
  {
   "cell_type": "markdown",
   "id": "e180eb1d-40eb-4acf-978d-ca03cc56198b",
   "metadata": {},
   "source": [
    "## Library Imports"
   ]
  },
  {
   "cell_type": "code",
   "execution_count": 1,
   "id": "8e677832-4430-4ede-aff4-2251fea53dc1",
   "metadata": {},
   "outputs": [],
   "source": [
    "from decouple import AutoConfig\n",
    "import os\n",
    "import pandas as pd\n",
    "import matplotlib.pyplot as plt"
   ]
  },
  {
   "cell_type": "markdown",
   "id": "fdd4df0b-b5d9-4cc6-ac2f-1afb42123fc9",
   "metadata": {},
   "source": [
    "## Functional Imports"
   ]
  },
  {
   "cell_type": "code",
   "execution_count": 2,
   "id": "0d132cf7-7fc5-4085-95d0-5cd548bf317d",
   "metadata": {},
   "outputs": [],
   "source": [
    "from src.video.video_select import select_video\n",
    "from src.video.video_insert import insert_multiple_video\n",
    "from src.videos_manifest import list_files_in_directory\n",
    "\n",
    "from src.comments.comment_select import select_comment\n",
    "from src.comments.comment_insert import *\n",
    "from src.comments.comment_parser import *"
   ]
  },
  {
   "cell_type": "markdown",
   "id": "4160d485-20b9-485f-ac13-3ea8f8d544ca",
   "metadata": {},
   "source": [
    "### Load Manifest Data"
   ]
  },
  {
   "cell_type": "code",
   "execution_count": 3,
   "id": "a1457204-9322-4dfe-99aa-0dabd86d73bb",
   "metadata": {},
   "outputs": [],
   "source": [
    "videos_manifest_df = pd.read_csv('./../data/raw/raw_videos_manifest.csv')\n",
    "videos_manifest_filenames = videos_manifest_df[\"filename\"].to_numpy()\n",
    "video_raw_directory = \".././data/raw/videos/\"\n",
    "\n",
    "comments_manifest_df = pd.read_csv('./../data/raw/raw_comments_manifest.csv')\n",
    "comments_manifest_filenames = comments_manifest_df[\"filename\"].to_numpy()\n",
    "comments_manifest_video_ids = comments_manifest_df[\"video_id\"].to_numpy()\n",
    "comments_raw_directory = \".././data/raw/comments-threads/\""
   ]
  },
  {
   "cell_type": "markdown",
   "id": "96bb35dc-a38c-4bc3-b4a0-bee95cb9ec37",
   "metadata": {},
   "source": [
    "## Configure PostgreSQL Environment Variables"
   ]
  },
  {
   "cell_type": "code",
   "execution_count": 4,
   "id": "4a787bc1-089c-482e-84f3-4535b00e4742",
   "metadata": {},
   "outputs": [],
   "source": [
    "config = AutoConfig(search_path='.')\n",
    "db_params = {\n",
    "    \"host\": \"localhost\",\n",
    "    \"port\": config(\"DB_PORT\"),\n",
    "    \"database\": \"YouTubeSentimentData\",\n",
    "    \"user\": config(\"DB_USER\"),\n",
    "    \"password\": config(\"DB_PASSWORD\")\n",
    "}"
   ]
  },
  {
   "cell_type": "markdown",
   "id": "996409a1-36a3-4735-bab7-cfa857898e25",
   "metadata": {},
   "source": [
    "### Read Data Queries"
   ]
  },
  {
   "cell_type": "code",
   "execution_count": 5,
   "id": "c90efed3-a1d6-4dc3-adbc-67ef6aabee64",
   "metadata": {},
   "outputs": [
    {
     "name": "stdout",
     "output_type": "stream",
     "text": [
      "Database connection is closed\n",
      "Database connection is closed\n"
     ]
    },
    {
     "data": {
      "text/plain": [
       "['video_id',\n",
       " 'publishedat',\n",
       " 'channelid',\n",
       " 'channeltitle',\n",
       " 'title',\n",
       " 'description',\n",
       " 'tags',\n",
       " 'duration',\n",
       " 'dimension',\n",
       " 'definition',\n",
       " 'caption',\n",
       " 'licensedcontent',\n",
       " 'projection',\n",
       " 'viewcount',\n",
       " 'likecount',\n",
       " 'favoritecount',\n",
       " 'commentcount',\n",
       " 'topiccategories']"
      ]
     },
     "execution_count": 5,
     "metadata": {},
     "output_type": "execute_result"
    }
   ],
   "source": [
    "all_videos = select_video(db_params)\n",
    "all_comments = select_comment(db_params)\n",
    "\n",
    "all_videos['columns']"
   ]
  },
  {
   "cell_type": "markdown",
   "id": "c55f3754-0d41-481c-8bd0-321b30ce4aa6",
   "metadata": {},
   "source": [
    "### Insert Comment Query"
   ]
  },
  {
   "cell_type": "code",
   "execution_count": null,
   "id": "af3c4c4b-1766-4c69-8a27-1be5ecd81bdb",
   "metadata": {
    "scrolled": true
   },
   "outputs": [],
   "source": [
    "comment_threads_path = os.path.join(os.path.dirname(os.getcwd()), \"data\", \"raw\", \"comment-threads\")\n",
    "file_paths = list_file_paths(comment_threads_path, comments_manifest_video_ids, comments_manifest_filenames)\n",
    "\n",
    "insert_pages_of_comments(file_paths, db_params, return_all_comment_thread_data)"
   ]
  },
  {
   "cell_type": "markdown",
   "id": "66ad335b-084f-443c-9d11-1b5d76f9d10a",
   "metadata": {},
   "source": [
    "### Insert Videos Query"
   ]
  },
  {
   "cell_type": "code",
   "execution_count": null,
   "id": "64fde356-95dd-4fb8-8b69-79c753995597",
   "metadata": {
    "scrolled": true
   },
   "outputs": [],
   "source": [
    "insert_multiple_video(db_params, videos_manifest_filenames, video_raw_directory, return_all_video_section_data, parse_all_video_section_data)"
   ]
  },
  {
   "cell_type": "markdown",
   "id": "02e0634e-e28f-46ad-b054-9106b8e49844",
   "metadata": {},
   "source": [
    "### Convert Data to Pandas Dataframes"
   ]
  },
  {
   "cell_type": "code",
   "execution_count": 8,
   "id": "bbbd0956-f1d8-49f9-9a8a-bd14b403f5c8",
   "metadata": {
    "scrolled": true
   },
   "outputs": [
    {
     "data": {
      "text/plain": [
       "{'columns': ['video_id',\n",
       "  'publishedat',\n",
       "  'channelid',\n",
       "  'channeltitle',\n",
       "  'title',\n",
       "  'description',\n",
       "  'tags',\n",
       "  'duration',\n",
       "  'dimension',\n",
       "  'definition',\n",
       "  'caption',\n",
       "  'licensedcontent',\n",
       "  'projection',\n",
       "  'viewcount',\n",
       "  'likecount',\n",
       "  'favoritecount',\n",
       "  'commentcount',\n",
       "  'topiccategories'],\n",
       " 'data': [('bxIF9X9k2IE',\n",
       "   datetime.datetime(2023, 9, 19, 12, 0, 34),\n",
       "   'UC7cs8q-gJRlGwj4A8OmCmXg',\n",
       "   'Alex The Analyst',\n",
       "   'Data Analyst vs Data Scientist | Responsibilities, Salaries, Skills, Education',\n",
       "   \"Data Scientists and Data Analysts are some of the most sought after jobs in the data world. \\n\\nBoth share a lot of similar tools, but the type of work they do can be quite different - and the salaries reflect this! \\n\\nLet's look at some of the similarities between a Data Scientist and a Data Analyst and see which might be the best fit for you!\\n\\nCheck out Analyst Builder! https://www.analystbuilder.com/\\n____________________________________________ \\n\\nSUBSCRIBE!\\nDo you want to become a Data Analyst? That's what this channel is all about! My goal is to help you learn everything you need in order to start your career or even switch your career into Data Analytics. Be sure to subscribe to not miss out on any content!\\n____________________________________________ \\n\\nRESOURCES:\\n\\nCoursera Courses:\\n📖Google Data Analyst Certification: https://coursera.pxf.io/5bBd62\\n📖Data Analysis with Python - https://coursera.pxf.io/BXY3Wy\\n📖IBM Data Analysis Specialization - https://coursera.pxf.io/AoYOdR\\n📖Tableau Data Visualization - https://coursera.pxf.io/MXYqaN\\n\\nUdemy Courses:\\n📖Python for Data Science - https://bit.ly/3Z4A5K6\\n📖Statistics for Data Science - https://bit.ly/37jqDbq\\n📖SQL for Data Analysts (SSMS) - https://bit.ly/3fkqEij\\n📖Tableau A-Z - http://bit.ly/385lYvN\\n\\n*Please note I may earn a small commission for any purchase through these links - Thanks for supporting the channel!*\\n____________________________________________ \\n\\nBECOME A MEMBER - \\n\\nWant to support the channel? Consider becoming a member! I do Monthly Livestreams and you get some awesome Emoji's to use in chat and comments!\\n\\nhttps://www.youtube.com/channel/UC7cs8q-gJRlGwj4A8OmCmXg/join\\n____________________________________________ \\n\\nWebsites: \\n💻Website: AlexTheAnalyst.com\\n💾GitHub: https://github.com/AlexTheAnalyst\\n📱Instagram: @Alex_The_Analyst\\n____________________________________________\\n\\n0:00 Intro\\n0:35 Responsibilities\\n5:09 Technical Skills\\n6:21 Education\\n7:36 Job Titles\\n8:22 Salaries\\n9:50 Outro\\n\\n\\n*All opinions or statements in this video are my own and do not reflect the opinion of the company I work for or have ever worked for*\",\n",
       "   ['Data Analyst',\n",
       "    'Data Analyst job',\n",
       "    'Data Analyst Career',\n",
       "    'Data Analytics',\n",
       "    'Alex The Analyst'],\n",
       "   'PT11M13S',\n",
       "   '2d',\n",
       "   'hd',\n",
       "   False,\n",
       "   True,\n",
       "   'rectangular',\n",
       "   33883,\n",
       "   809,\n",
       "   0,\n",
       "   51,\n",
       "   ['https://en.wikipedia.org/wiki/Knowledge',\n",
       "    'https://en.wikipedia.org/wiki/Technology']),\n",
       "  ('fUpChfNN5Uo',\n",
       "   datetime.datetime(2020, 6, 10, 15, 49, 15),\n",
       "   'UC7cs8q-gJRlGwj4A8OmCmXg',\n",
       "   'Alex The Analyst',\n",
       "   'Data Scientist vs Data Analyst | Which Is Right For You?',\n",
       "   \"Data Scientists and Data Analysts are some of the most sought after jobs in the data world. Both share a lot of similar tools, but the type of work they do can be quite different - and the salaries reflect this! Let's look at some of the similarities between a Data Scientist and a Data Analyst and see which might be the best fit for you!\\n\\nCheck out Analyst Builder! https://www.analystbuilder.com/\\n ____________________________________________ \\n\\nSUBSCRIBE!\\nDo you want to become a Data Analyst? That's what this channel is all about! My goal is to help you learn everything you need in order to start your career or even switch your career into Data Analytics. Be sure to subscribe to not miss out on any content!\\n____________________________________________ \\n\\n\\nRESOURCES:\\n\\nCoursera Courses:\\nGoogle Data Analyst Certification: https://coursera.pxf.io/5bBd62\\nData Analysis with Python - https://coursera.pxf.io/BXY3Wy\\nIBM Data Analysis Specialization - https://coursera.pxf.io/AoYOdR\\nTableau Data Visualization - https://coursera.pxf.io/MXYqaN\\n\\nUdemy Courses:\\nPython for Data Analysis and Visualization- https://bit.ly/3hhX4LX\\nStatistics for Data Science - https://bit.ly/37jqDbq\\nSQL for Data Analysts (SSMS) - https://bit.ly/3fkqEij\\nTableau A-Z - http://bit.ly/385lYvN\\n\\nFavorite Books:\\nPython for Data Analysis Book -  https://amzn.to/3dDneGq\\nSQL Beginner's Guide to Managing and Analyzing With SQL Book - https://amzn.to/2X5341B\\n\\n*Please note I may earn a small commission for any purchase through these links - Thanks for supporting the channel!*\\n____________________________________________ \\n\\nWebsites: \\nGitHub: https://github.com/AlexTheAnalyst\\n\\n____________________________________________\\n\\n\\n*All opinions or statements in this video are my own and do not reflect the opinion of the company I work for or have ever worked for*\",\n",
       "   ['Data Analyst',\n",
       "    'How to become a data analyst',\n",
       "    'Data Analyst job',\n",
       "    'Data Analyst Career',\n",
       "    'Data Analytics',\n",
       "    'Data Scientist',\n",
       "    'Data scientist vs data analyst',\n",
       "    'data analyst vs data scientist',\n",
       "    'data scientist job',\n",
       "    'data scientist salary',\n",
       "    'Data scientist job description',\n",
       "    'Data Analyst Job Description',\n",
       "    'Data Analyst Salary',\n",
       "    'Data Analyst skills',\n",
       "    'data scientist career',\n",
       "    'Data scientist or data analyst',\n",
       "    'data analyst or data scientist',\n",
       "    'data analyst for freshers',\n",
       "    'data scientist for freshers'],\n",
       "   'PT7M47S',\n",
       "   '2d',\n",
       "   'hd',\n",
       "   False,\n",
       "   True,\n",
       "   'rectangular',\n",
       "   748269,\n",
       "   23497,\n",
       "   0,\n",
       "   851,\n",
       "   ['https://en.wikipedia.org/wiki/Knowledge',\n",
       "    'https://en.wikipedia.org/wiki/Technology']),\n",
       "  ('IMU1V-JugKo',\n",
       "   datetime.datetime(2023, 5, 16, 16, 18, 56),\n",
       "   'UC7cs8q-gJRlGwj4A8OmCmXg',\n",
       "   'Alex The Analyst',\n",
       "   'The Ultimate Data Analytics Career Plan for 2023 | CareerFoundry Webinar',\n",
       "   \"Today we’ll unlock “The Ultimate Data Analytics Career Plan for 2023” and you'll learn the\\nexact steps you need to take to achieve your career goals in data analytics.\\n\\nA big thanks to CareerFoundry for inviting me to take part in this webinar!\\n\\n20% Discount to Full Data Analytics Bootcamp: https://bit.ly/451OMjc\\n\\nBook a call: https://bit.ly/3PPGTbW\\n\\nFree short course: https://bit.ly/3t0qlVT\\n\\n____________________________________________ \\n\\nSUBSCRIBE!\\nDo you want to become a Data Analyst? That's what this channel is all about! My goal is to help you learn everything you need in order to start your career or even switch your career into Data Analytics. Be sure to subscribe to not miss out on any content!\\n____________________________________________ \\n\\nSUPPORT MY CHANNEL - PATREON/MERCH\\n\\n🙌Patreon Page - https://www.patreon.com/AlexTheAnalyst\\n\\n💻Alex The Analyst Shop - https://teespring.com/stores/alex-the-analyst-shop\\n\\n____________________________________________ \\n\\nWebsites: \\n💻Website: AlexTheAnalyst.com\\n💾GitHub: https://github.com/AlexTheAnalyst\\n📱Instagram: @Alex_The_Analyst\\n____________________________________________\\n\\n*All opinions or statements in this video are my own and do not reflect the opinion of the company I work for or have ever worked for*\",\n",
       "   ['Data Analyst',\n",
       "    'Data Analyst job',\n",
       "    'Data Analyst Career',\n",
       "    'Data Analytics',\n",
       "    'Alex The Analyst'],\n",
       "   'PT1H10M48S',\n",
       "   '2d',\n",
       "   'hd',\n",
       "   False,\n",
       "   True,\n",
       "   'rectangular',\n",
       "   50828,\n",
       "   1724,\n",
       "   0,\n",
       "   52,\n",
       "   ['https://en.wikipedia.org/wiki/Knowledge',\n",
       "    'https://en.wikipedia.org/wiki/Technology']),\n",
       "  ('jVPd7lEvjtg',\n",
       "   datetime.datetime(2021, 5, 5, 15, 0, 20),\n",
       "   'UCv83tO5cePwHMt1952IVVHw',\n",
       "   'James Briggs',\n",
       "   'Sentence Similarity With Transformers and PyTorch (Python)',\n",
       "   \"Easy mode: https://youtu.be/Ey81KfQ3PQU\\n\\nAll we ever seem to talk about nowadays are BERT this, BERT that. I want to talk about something else, but BERT is just too good \\u200a- \\u200aso this video will be about BERT for sentence similarity.\\n\\nA big part of NLP relies on similarity in highly-dimensional spaces. Typically an NLP solution will take some text, process it to create a big vector/array representing said text\\u200a-\\u200athen perform several transformations.\\n\\nIt's highly-dimensional magic.\\n\\nSentence similarity is one of the clearest examples of how powerful highly-dimensional magic can be.\\n\\nThe logic is this:\\n- Take a sentence, convert it into a vector.\\n- Take many other sentences, and convert them into vectors.\\n- Find sentences that have the smallest distance (Euclidean) or smallest angle (cosine similarity) between them\\u200a-\\u200amore on that here.\\n- We now have a measure of semantic similarity between sentences\\u200a-\\u200aeasy!\\n\\nAt a high level, there's not much else to it. But of course, we want to understand what is happening in a little more detail and implement this in Python too.\\n\\n🤖 70% Discount on the NLP With Transformers in Python course:\\nhttps://bit.ly/3DFvvY5\\n\\nMedium article:\\nhttps://towardsdatascience.com/bert-for-measuring-text-similarity-eec91c6bf9e1\\n\\n🎉 Sign-up For New Articles Every Week on Medium!\\nhttps://medium.com/@jamescalam/membership\\n\\n📖 If membership is too expensive - here's a free link:\\nhttps://towardsdatascience.com/bert-for-measuring-text-similarity-eec91c6bf9e1?sk=c0f2990b4660210b447e52d55bd0f4e5\\n\\n👾 Discord\\nhttps://discord.gg/c5QtDB9RAP\\n\\n🕹️ Free AI-Powered Code Refactoring with Sourcery: \\nhttps://sourcery.ai/?utm_source=YouTub&utm_campaign=JBriggs&utm_medium=aff\\n\\n00:00 Intro\\n00:16 BERT Base Network\\n1:11 Sentence Vectors and Similarity\\n1:47 The Data and Model\\n3:01 Two Approaches\\n3:16 Tokenizing Sentences\\n9:11 Creating last_hidden_state Tensor\\n11:08 Creating Sentence Vectors\\n17:53 Cosine Similarity\",\n",
       "   [],\n",
       "   'PT21M10S',\n",
       "   '2d',\n",
       "   'hd',\n",
       "   False,\n",
       "   True,\n",
       "   'rectangular',\n",
       "   16927,\n",
       "   398,\n",
       "   0,\n",
       "   63,\n",
       "   ['https://en.wikipedia.org/wiki/Knowledge']),\n",
       "  ('KbVMd9WC7EI',\n",
       "   datetime.datetime(2016, 9, 20, 21, 27, 59),\n",
       "   'UCuWhTXXB3KpLrY14VSNJLKQ',\n",
       "   'Clinton Affair',\n",
       "   'Clinton Affair - A m b e r',\n",
       "   '',\n",
       "   ['post-vaporwave',\n",
       "    '90s',\n",
       "    '1991',\n",
       "    'nostalgia',\n",
       "    'mtv',\n",
       "    'thegrind',\n",
       "    'grind',\n",
       "    'summer'],\n",
       "   'PT4M28S',\n",
       "   '2d',\n",
       "   'hd',\n",
       "   False,\n",
       "   False,\n",
       "   'rectangular',\n",
       "   16614,\n",
       "   264,\n",
       "   0,\n",
       "   None,\n",
       "   ['https://en.wikipedia.org/wiki/Electronic_music',\n",
       "    'https://en.wikipedia.org/wiki/Music']),\n",
       "  ('miEFm1CyjfM',\n",
       "   datetime.datetime(2023, 3, 7, 15, 7, 9),\n",
       "   'UC8wZnXYK_CGKlBcZp-GxYPA',\n",
       "   'NeuralNine',\n",
       "   'PostgreSQL in Python - Crash Course',\n",
       "   'In this video, we learn how to use PostgreSQL in Python.\\n\\nPostgreSQL: https://www.postgresql.org/\\n\\n◾◾◾◾◾◾◾◾◾◾◾◾◾◾◾◾◾\\n📚 Programming Books & Merch 📚\\n🐍 The Python Bible Book: https://www.neuralnine.com/books/\\n💻 The Algorithm Bible Book: https://www.neuralnine.com/books/\\n👕 Programming Merch: https://www.neuralnine.com/shop\\n\\n🌐 Social Media & Contact 🌐 \\n📱 Website: https://www.neuralnine.com/\\n📷 Instagram: https://www.instagram.com/neuralnine\\n🐦 Twitter: https://twitter.com/neuralnine\\n🤵 LinkedIn: https://www.linkedin.com/company/neuralnine/\\n📁 GitHub: https://github.com/NeuralNine \\n🎙 Discord: https://discord.gg/JU4xr8U3dm\\n\\n🎵 Outro Music From: https://www.bensound.com/\\n\\nTimestamps:\\n(0:00) Intro\\n(0:17) Installing PostgreSQL\\n(4:52) PostgreSQL in Python\\n(15:33) Outro',\n",
       "   ['postgresql',\n",
       "    'python',\n",
       "    'psycopg',\n",
       "    'psycopg2',\n",
       "    'python postgresql',\n",
       "    'crash course',\n",
       "    'tutorial',\n",
       "    'pgsql',\n",
       "    'python pgsql'],\n",
       "   'PT16M6S',\n",
       "   '2d',\n",
       "   'hd',\n",
       "   False,\n",
       "   True,\n",
       "   'rectangular',\n",
       "   26788,\n",
       "   842,\n",
       "   0,\n",
       "   33,\n",
       "   ['https://en.wikipedia.org/wiki/Knowledge',\n",
       "    'https://en.wikipedia.org/wiki/Technology']),\n",
       "  ('NGXnUA_jcfQ',\n",
       "   datetime.datetime(2018, 12, 12, 9, 26, 1),\n",
       "   'UCRiFekze9Yx5zDDjAVrYvbg',\n",
       "   'Papa Roach - Topic',\n",
       "   'Be Free',\n",
       "   'Provided to YouTube by Universal Music Group\\n\\nBe Free · Papa Roach\\n\\nGetting Away With Murder\\n\\n℗ 2004 Geffen Records\\n\\nReleased on: 2004-01-01\\n\\nProducer, Associated  Performer, Programming: Howard Benson\\nStudio  Personnel, Mixer: Chris Lord-Alge\\nStudio  Personnel, Recording  Engineer, Unknown, Other: Mike Plotnikoff\\nStudio  Personnel, Engineer, Unknown, Other: Eric Miller\\nUnknown, Other, Associated  Performer, Programming: Paul DeCarli\\nAssociated  Performer, Vocals: Jacoby Shaddix\\nAssociated  Performer, Guitar, Vocals: Jerry Horton Jr.\\nAssociated  Performer, Bass  Guitar, Guitar, Vocals: Tobin Esperance\\nAssociated  Performer, Drums, Vocals: Dave Buckner\\nComposer  Lyricist: Dave Buckner\\nComposer  Lyricist: Jacoby Shaddix\\nComposer  Lyricist: Tobin Esperance\\nComposer  Lyricist: Jerry Horton Jr.\\n\\nAuto-generated by YouTube.',\n",
       "   ['Papa Roach',\n",
       "    'パパローチ',\n",
       "    'パパ・ローチ',\n",
       "    'Getting Away With Murder',\n",
       "    'Be Free',\n",
       "    'ビー・フリー'],\n",
       "   'PT3M18S',\n",
       "   '2d',\n",
       "   'hd',\n",
       "   False,\n",
       "   True,\n",
       "   'rectangular',\n",
       "   644320,\n",
       "   7419,\n",
       "   0,\n",
       "   21,\n",
       "   ['https://en.wikipedia.org/wiki/Music',\n",
       "    'https://en.wikipedia.org/wiki/Rock_music']),\n",
       "  ('T8UXgR-EtoM',\n",
       "   datetime.datetime(2023, 10, 13, 12, 0, 32),\n",
       "   'UC8wZnXYK_CGKlBcZp-GxYPA',\n",
       "   'NeuralNine',\n",
       "   \"What's New in Python 3.12?\",\n",
       "   'Today we discuss what is new in Python 3.12.\\n\\nDocs: https://docs.python.org/3/whatsnew/3.12.html\\n\\n◾◾◾◾◾◾◾◾◾◾◾◾◾◾◾◾◾\\n📚 Programming Books & Merch 📚\\n🐍 The Python Bible Book: https://www.neuralnine.com/books/\\n💻 The Algorithm Bible Book: https://www.neuralnine.com/books/\\n👕 Programming Merch: https://www.neuralnine.com/shop\\n\\n💼 Services 💼\\n💻 Freelancing & Tutoring: https://www.neuralnine.com/services\\n\\n🌐 Social Media & Contact 🌐 \\n📱 Website: https://www.neuralnine.com/\\n📷 Instagram: https://www.instagram.com/neuralnine\\n🐦 Twitter: https://twitter.com/neuralnine\\n🤵 LinkedIn: https://www.linkedin.com/company/neuralnine/\\n📁 GitHub: https://github.com/NeuralNine \\n🎙 Discord: https://discord.gg/JU4xr8U3dm\\n\\nTimestamps:\\n(0:00) Intro\\n(0:16) Better Performance & Error Messages\\n(2:37) F-String Updates\\n(6:10) Generic Types\\n(8:48) Type Aliases\\n(9:40) Typed Dictionaries\\n(10:20) Override Decorator\\n(11:23) Per-Interpreter GIL\\n(13:04) Summary\\n(14:04) Outro',\n",
       "   ['python',\n",
       "    'python 3.12',\n",
       "    '3.12',\n",
       "    'new update',\n",
       "    'new version',\n",
       "    'whats new in python 3.12',\n",
       "    'python 3.12 updates',\n",
       "    'changes',\n",
       "    'updates',\n",
       "    'whats new',\n",
       "    \"what's new in Python 3.12\"],\n",
       "   'PT14M36S',\n",
       "   '2d',\n",
       "   'hd',\n",
       "   False,\n",
       "   True,\n",
       "   'rectangular',\n",
       "   9366,\n",
       "   411,\n",
       "   0,\n",
       "   19,\n",
       "   ['https://en.wikipedia.org/wiki/Knowledge',\n",
       "    'https://en.wikipedia.org/wiki/Technology']),\n",
       "  ('tBfIh3VQX2o',\n",
       "   datetime.datetime(2022, 6, 10, 18, 19, 5),\n",
       "   'UCLLw7jmFsvfIVaUFsLs8mlQ',\n",
       "   'Luke Barousse',\n",
       "   'How I use Math as a Data Analyst',\n",
       "   'Statistics & Probability Course for Data Analysts 👉🏼https://lukeb.co/Statistics\\n\\nShoutout to the real Math MVP 👉🏼 @Thuvu5 \\n\\nCertificates & Courses \\n==================================\\nCoursera Courses:\\n📜 Google Data Analytics Certificate (START HERE) 👉🏼  https://lukeb.co/GoogleCert\\n💿 SQL for Data Science 👉🏼 https://lukeb.co/SQLdataScience\\n🧾 Excel Skills for Business 👉🏼\\xa0 https://lukeb.co/ExcelBusinessAnalyst\\n🐍 Python for Everybody 👉🏼  https://lukeb.co/PythonForEverybody\\n📊 Data Visualization with Tableau 👉🏼\\xa0https://lukeb.co/Tableau_UCDavis\\n🏴\\u200d☠️ Data Science: Foundations using R 👉🏼 https://lukeb.co/RforDataScienceJH\\nCoursera Plus Subscription (7-day free trial) 👉🏼 https://lukeb.co/CourseraPlus\\n\\n👨🏼\\u200d🏫 All courses 👉🏼 https://kit.co/lukebarousse/data-analytics-courses\\n\\nBuild a Portfolio Online\\n==================================\\n👩🏻\\u200d💻Build portfolio here 👉🏼  http://hostinger.com/luke\\nRebate Code: \"LUKE\" \\nMy Portfolio  👉🏼  https://lukebarousse.tech/\\n\\nBooks for Data Nerds\\n==================================\\n 📚 Books I’ve read 👉🏼  https://kit.co/lukebarousse/book-recommendations\\n📗 Data Science Must Read 👉🏼 https://geni.us/StorytellingWithData\\n📙 Tableau 👉🏼  https://geni.us/tableau\\n📘 Power BI👉🏼  https://geni.us/powerbi\\n📕 Python 👉🏼 https://geni.us/pythontricks\\n\\nTech for Data Nerds\\n==================================\\n⚙️ Tech I use 👉🏼 https://kit.co/lukebarousse/computer-accessories\\n🪟Windows on a Mac (Parallels VM) 👉🏼 https://lukeb.co/ParallelsFreeTrial\\n👨🏼\\u200d💻 M1 Macbook Air (Mac of choice) 👉🏼 https://geni.us/M1macAir8GB\\n💻 Dell XPS 13 (PC of choice) 👉🏼  https://geni.us/DellNewXPS13\\n💻 Asus Vivo Book (Lowest Cost PC) 👉🏼 https://geni.us/AsusVivoBook15\\n💻Lenovo IdeaPad (Best Value PC)👉🏼  https://geni.us/LenovoIdeaPad15\\n\\nSocial Media / Contact Me\\n======================\\n🙋🏼\\u200d♂️Newsletter: https://www.lukebarousse.com/\\n🌄 Instagram: https://www.instagram.com/lukebarousse/\\n⏰ TikTok: https://www.tiktok.com/@lukebarousse\\n📘 Facebook: https://www.facebook.com/datavizbyluke\\n📥 Business Inquiries: luke@lukebarousse.com\\n\\n00:00 Intro\\n00:59 Arithmetic\\n01:33 Algebra\\n02:30 Descriptive Statistics\\n03:57 Probability Distributions\\n07:19 Regression - Advanced Statistics\\n09:07 Thu\\'s Recommendations\\n\\nAs a member of the Amazon, Coursera, Hostinger, Parallels, Interview Query, and Data Camp Affiliate Programs, I earn a commission from qualifying purchases on the links above.  It costs you nothing but helps me with content creation.\\n\\n#datanerd #dataanalyst #datascience',\n",
       "   ['data viz by luke',\n",
       "    'business intelligence',\n",
       "    'data science',\n",
       "    'bi',\n",
       "    'computer science',\n",
       "    'data nerd',\n",
       "    'data analyst',\n",
       "    'data scientist',\n",
       "    'how to',\n",
       "    'data project',\n",
       "    'data analytics',\n",
       "    'portfolio project',\n",
       "    'sql',\n",
       "    'excel',\n",
       "    'python',\n",
       "    'power bi',\n",
       "    'tableau',\n",
       "    'data engineer'],\n",
       "   'PT10M6S',\n",
       "   '2d',\n",
       "   'hd',\n",
       "   False,\n",
       "   True,\n",
       "   'rectangular',\n",
       "   97266,\n",
       "   4464,\n",
       "   0,\n",
       "   298,\n",
       "   ['https://en.wikipedia.org/wiki/Knowledge',\n",
       "    'https://en.wikipedia.org/wiki/Technology']),\n",
       "  ('ubOhA56G_tk',\n",
       "   datetime.datetime(2023, 2, 14, 0, 54, 35),\n",
       "   'UCyQrL08LlvUHcl6snYDfo7g',\n",
       "   'introvertedmadness',\n",
       "   'The Complete Guide to Getting a Tech Job',\n",
       "   'we live in a society\\n\\n\\n\\ni have missed u all dearly loves, next video will not take 5 years :)',\n",
       "   ['career in tech',\n",
       "    'tech careers',\n",
       "    'casually explained',\n",
       "    'coding interviews are broken',\n",
       "    'coding interviews',\n",
       "    'technical interviews',\n",
       "    'tech layoffs',\n",
       "    'tech job',\n",
       "    'computer science',\n",
       "    'software engineering',\n",
       "    'swe',\n",
       "    'google',\n",
       "    'facebook',\n",
       "    'apple',\n",
       "    'meta',\n",
       "    'microsoft',\n",
       "    'what other tech company is there lmao',\n",
       "    'oh yeah',\n",
       "    'twitter',\n",
       "    'elon musk',\n",
       "    \"he's in this video too\",\n",
       "    'metaverse',\n",
       "    'bitcoin',\n",
       "    'tech',\n",
       "    'amazon',\n",
       "    'zuck',\n",
       "    'chatgpt',\n",
       "    'openai',\n",
       "    'introvertedmadness',\n",
       "    'getting a tech job',\n",
       "    'the complete guide to college admissions',\n",
       "    'cracking the coding interview'],\n",
       "   'PT9M59S',\n",
       "   '2d',\n",
       "   'hd',\n",
       "   False,\n",
       "   True,\n",
       "   'rectangular',\n",
       "   603143,\n",
       "   36298,\n",
       "   0,\n",
       "   1315,\n",
       "   ['https://en.wikipedia.org/wiki/Knowledge']),\n",
       "  ('y-EjAuWdZdI',\n",
       "   datetime.datetime(2022, 6, 4, 16, 32, 7),\n",
       "   'UC8wZnXYK_CGKlBcZp-GxYPA',\n",
       "   'NeuralNine',\n",
       "   'Calculating Text Similarity in Python with NLP',\n",
       "   'Today we learn how to compare texts in terms of similarity by using NLP in Python.\\n\\n◾◾◾◾◾◾◾◾◾◾◾◾◾◾◾◾◾\\n📚 Programming Books & Merch 📚\\n🐍 The Python Bible Book: https://www.neuralnine.com/books/\\n💻 The Algorithm Bible Book: https://www.neuralnine.com/books/\\n👕 Programming Merch: https://www.neuralnine.com/shop\\n\\n🌐 Social Media & Contact 🌐 \\n📱 Website: https://www.neuralnine.com/\\n📷 Instagram: https://www.instagram.com/neuralnine\\n🐦 Twitter: https://twitter.com/neuralnine\\n🤵 LinkedIn: https://www.linkedin.com/company/neuralnine/\\n📁 GitHub: https://github.com/NeuralNine \\n🎙 Discord: https://discord.gg/JU4xr8U3dm\\n\\n🎵 Outro Music From: https://www.bensound.com/',\n",
       "   ['python text similarity',\n",
       "    'python nlp',\n",
       "    'python similar texts',\n",
       "    'python spacy',\n",
       "    'python spacy similarity',\n",
       "    'nlp',\n",
       "    'natural language processing'],\n",
       "   'PT17M55S',\n",
       "   '2d',\n",
       "   'hd',\n",
       "   False,\n",
       "   True,\n",
       "   'rectangular',\n",
       "   30495,\n",
       "   796,\n",
       "   0,\n",
       "   21,\n",
       "   ['https://en.wikipedia.org/wiki/Knowledge',\n",
       "    'https://en.wikipedia.org/wiki/Technology']),\n",
       "  ('Y2hgEGPzTZY',\n",
       "   datetime.datetime(2018, 10, 29, 10, 45),\n",
       "   'UC80PWRj_ZU8Zu0HSMNVwKWw',\n",
       "   'Codevolution',\n",
       "   'ReactJS Tutorial - 4 - Components',\n",
       "   '📘 Courses - https://learn.codevolution.dev/\\n💖 Support UPI - https://support.codevolution.dev/\\n💖 Support PayPal - https://www.paypal.me/Codevolution\\n💾 Github - https://github.com/gopinav\\n\\n📱 Follow Codevolution\\n+ Twitter - https://twitter.com/CodevolutionWeb\\n+ Facebook - https://www.facebook.com/codevolutionweb\\n\\n📫 Business - codevolution.business@gmail.com\\n\\nComponents let you split the UI into independent, reusable pieces, and think about each piece in isolation.\\nConceptually, components are like JavaScript functions. They accept arbitrary inputs (called “props”) and return React elements describing what should appear on the screen.\\nThere are two types of components - Stateless Functional Components and Stateful Class Components',\n",
       "   ['Codevolution',\n",
       "    'React',\n",
       "    'React Tutorial',\n",
       "    'React Tutorial for Beginners',\n",
       "    'React Basics',\n",
       "    'React Fundamentals',\n",
       "    'Reactjs',\n",
       "    'Reactjs Tutorial',\n",
       "    'Reactjs Tutorial for Beginners',\n",
       "    'React.js',\n",
       "    'React js',\n",
       "    'React Components',\n",
       "    'React Component Types',\n",
       "    'Components',\n",
       "    'Functional Components',\n",
       "    'Class Components'],\n",
       "   'PT4M59S',\n",
       "   '2d',\n",
       "   'hd',\n",
       "   False,\n",
       "   True,\n",
       "   'rectangular',\n",
       "   996365,\n",
       "   8501,\n",
       "   0,\n",
       "   123,\n",
       "   ['https://en.wikipedia.org/wiki/Knowledge',\n",
       "    'https://en.wikipedia.org/wiki/Technology']),\n",
       "  ('ywZXpfdqg1o',\n",
       "   datetime.datetime(2020, 7, 29, 13, 48),\n",
       "   'UC7cs8q-gJRlGwj4A8OmCmXg',\n",
       "   'Alex The Analyst',\n",
       "   'What Does a Data Analyst Actually Do?',\n",
       "   \"What Does a Data Analyst Actually Do? | Let's look at what a Data Analyst actually does from start to finish. We will then look at Qualifications, Skills needed, and Salary. All of this should give you a good overview of everything that a Data Analyst actually does.\\n\\nCheck out Analyst Builder! https://www.analystbuilder.com/\\n ____________________________________________ \\n\\nSUBSCRIBE!\\nDo you want to become a Data Analyst? That's what this channel is all about! My goal is to help you learn everything you need in order to start your career or even switch your career into Data Analytics. Be sure to subscribe to not miss out on any content!\\n____________________________________________ \\n\\nRESOURCES:\\n\\nCoursera Courses:\\nGoogle Data Analyst Certification: https://coursera.pxf.io/5bBd62\\nData Analysis with Python - https://coursera.pxf.io/BXY3Wy\\nIBM Data Analysis Specialization - https://coursera.pxf.io/AoYOdR\\nTableau Data Visualization - https://coursera.pxf.io/MXYqaN\\n\\nUdemy Courses:\\nPython for Data Analysis and Visualization- https://bit.ly/3hhX4LX\\nStatistics for Data Science - https://bit.ly/37jqDbq\\nSQL for Data Analysts (SSMS) - https://bit.ly/3fkqEij\\nTableau A-Z - http://bit.ly/385lYvN\\n\\n____________________________________________ \\n\\nSUPPORT MY CHANNEL - PATREON\\n\\nPatreon Page - https://www.patreon.com/AlexTheAnalyst\\n\\nEvery dollar donated is put back into my channel to make my videos even better. Thank you all so much for your support! \\n____________________________________________ \\n\\nWebsites: \\nGitHub: https://github.com/AlexTheAnalyst\\n____________________________________________\\n\\n*All opinions or statements in this video are my own and do not reflect the opinion of the company I work for or have ever worked for*\",\n",
       "   ['Data Analyst',\n",
       "    'How to become a data analyst',\n",
       "    'Data Analyst job',\n",
       "    'Data Analyst Career',\n",
       "    'Data Analytics',\n",
       "    'Data Analyst with no experience',\n",
       "    'what does a data analyst do',\n",
       "    'what do data analysts actually do',\n",
       "    'what do data analysts do',\n",
       "    'what does a data analyst actually do',\n",
       "    'data analyst job description',\n",
       "    'data analyst skills',\n",
       "    'data analyst qualifications',\n",
       "    'data analyst salary',\n",
       "    'data analyst overview',\n",
       "    'What a data analyst does',\n",
       "    'Data Analyst Cleaning data',\n",
       "    'Data Analyst visualization'],\n",
       "   'PT4M18S',\n",
       "   '2d',\n",
       "   'hd',\n",
       "   False,\n",
       "   True,\n",
       "   'rectangular',\n",
       "   832452,\n",
       "   16656,\n",
       "   0,\n",
       "   449,\n",
       "   ['https://en.wikipedia.org/wiki/Knowledge',\n",
       "    'https://en.wikipedia.org/wiki/Technology']),\n",
       "  ('_DGn-7134i0',\n",
       "   datetime.datetime(2023, 10, 3, 12, 0, 26),\n",
       "   'UC7cs8q-gJRlGwj4A8OmCmXg',\n",
       "   'Alex The Analyst',\n",
       "   'Data Analyst vs Data Engineer | Responsibilities, Salaries, Skills, Education',\n",
       "   \"Data Scientists and Data Engineers are some of the most popular jobs in the data world. \\n\\nBoth share a lot of similar tools, but the type of work they do can be quite different - and the salaries reflect this! \\n\\nLet's look at some of the similarities between a Data Engineer and a Data Analyst and see which might be the best fit for you!\\n\\nCheck out Analyst Builder! https://www.analystbuilder.com/\\n____________________________________________ \\n\\nSUBSCRIBE!\\nDo you want to become a Data Analyst? That's what this channel is all about! My goal is to help you learn everything you need in order to start your career or even switch your career into Data Analytics. Be sure to subscribe to not miss out on any content!\\n____________________________________________ \\n\\nRESOURCES:\\n\\nCoursera Courses:\\n📖Google Data Analyst Certification: https://coursera.pxf.io/5bBd62\\n📖Data Analysis with Python - https://coursera.pxf.io/BXY3Wy\\n📖IBM Data Analysis Specialization - https://coursera.pxf.io/AoYOdR\\n📖Tableau Data Visualization - https://coursera.pxf.io/MXYqaN\\n\\nUdemy Courses:\\n📖Python for Data Science - https://bit.ly/3Z4A5K6\\n📖Statistics for Data Science - https://bit.ly/37jqDbq\\n📖SQL for Data Analysts (SSMS) - https://bit.ly/3fkqEij\\n📖Tableau A-Z - http://bit.ly/385lYvN\\n\\n*Please note I may earn a small commission for any purchase through these links - Thanks for supporting the channel!*\\n____________________________________________ \\n\\nBECOME A MEMBER - \\n\\nWant to support the channel? Consider becoming a member! I do Monthly Livestreams and you get some awesome Emoji's to use in chat and comments!\\n\\nhttps://www.youtube.com/channel/UC7cs8q-gJRlGwj4A8OmCmXg/join\\n____________________________________________ \\n\\nWebsites: \\n💻Website: AlexTheAnalyst.com\\n💾GitHub: https://github.com/AlexTheAnalyst\\n📱Instagram: @Alex_The_Analyst\\n____________________________________________\\n\\n0:00 Intro\\n0:24 Responsibilities\\n1:45 Technical Skills\\n3:02 Education\\n4:39 Job Titles\\n5:10 Salaries\\n5:45 Outro\\n\\n*All opinions or statements in this video are my own and do not reflect the opinion of the company I work for or have ever worked for*\",\n",
       "   ['Data Analyst',\n",
       "    'Data Analyst job',\n",
       "    'Data Analyst Career',\n",
       "    'Data Analytics',\n",
       "    'Alex The Analyst'],\n",
       "   'PT6M26S',\n",
       "   '2d',\n",
       "   'hd',\n",
       "   False,\n",
       "   True,\n",
       "   'rectangular',\n",
       "   28952,\n",
       "   583,\n",
       "   0,\n",
       "   40,\n",
       "   ['https://en.wikipedia.org/wiki/Knowledge',\n",
       "    'https://en.wikipedia.org/wiki/Technology'])]}"
      ]
     },
     "execution_count": 8,
     "metadata": {},
     "output_type": "execute_result"
    }
   ],
   "source": [
    "#all_videos_df = pd.DataFrame(all_videos)\n",
    "#all_comments_df = pd.DataFrame(all_comments)\n",
    "\n",
    "#all_videos"
   ]
  },
  {
   "cell_type": "code",
   "execution_count": null,
   "id": "f57b06ec-aff2-43c4-bc62-2fca9c47e570",
   "metadata": {},
   "outputs": [],
   "source": []
  },
  {
   "cell_type": "markdown",
   "id": "c5c2837c-519a-4b38-99e9-d921e7acfdc3",
   "metadata": {
    "jp-MarkdownHeadingCollapsed": true
   },
   "source": [
    "# Feature Engineering"
   ]
  },
  {
   "cell_type": "markdown",
   "id": "6d8f636f-739f-4819-93a6-08af544b84ab",
   "metadata": {},
   "source": [
    "### Add Upload Year Column"
   ]
  },
  {
   "cell_type": "code",
   "execution_count": 23,
   "id": "c6574053-e85a-4ee3-bcec-7746b6df2d96",
   "metadata": {},
   "outputs": [],
   "source": [
    "all_videos_df[\"uploadDate\"] = pd.to_datetime(all_videos_df[1])\n",
    "all_videos_df[\"Year\"] = all_videos_df[\"uploadDate\"].dt.year"
   ]
  },
  {
   "cell_type": "markdown",
   "id": "ca7b0175-c3ee-4be5-8ad7-92401fa02a79",
   "metadata": {
    "jp-MarkdownHeadingCollapsed": true
   },
   "source": [
    "# Plots"
   ]
  },
  {
   "cell_type": "markdown",
   "id": "ac6f4d10-5759-4cb1-83dc-7e06f93a5727",
   "metadata": {},
   "source": [
    "### Frequency of Year Upload Plot"
   ]
  },
  {
   "cell_type": "code",
   "execution_count": 20,
   "id": "9d3a901f-7d73-4679-8a33-dc991e5f9d18",
   "metadata": {},
   "outputs": [
    {
     "data": {
      "text/plain": [
       "<AxesSubplot: title={'center': 'Upload Frequency by Year'}, xlabel='Year', ylabel='Upload Frequency'>"
      ]
     },
     "execution_count": 20,
     "metadata": {},
     "output_type": "execute_result"
    },
    {
     "data": {
      "image/png": "[encoded data removed]",
      "text/plain": [
       "<Figure size 640x480 with 1 Axes>"
      ]
     },
     "metadata": {},
     "output_type": "display_data"
    }
   ],
   "source": [
    "yearly_counts = all_videos_df[\"Year\"].value_counts().sort_index()\n",
    "yearly_counts.plot(kind=\"bar\", xlabel=\"Year\", ylabel=\"Upload Frequency\", title=\"Upload Frequency by Year\")"
   ]
  },
  {
   "cell_type": "markdown",
   "id": "a15f80f4-3583-4514-b161-88282ff9a408",
   "metadata": {},
   "source": [
    "### Frequency of Comment Like Plot"
   ]
  },
  {
   "cell_type": "code",
   "execution_count": 46,
   "id": "b1e413f3-23ec-4e0d-88b2-502726af301d",
   "metadata": {},
   "outputs": [
    {
     "data": {
      "text/plain": [
       "<AxesSubplot: title={'center': 'Frequency of Count of Likes'}, xlabel='Count of Likes', ylabel='Frequency'>"
      ]
     },
     "execution_count": 46,
     "metadata": {},
     "output_type": "execute_result"
    },
    {
     "data": {
      "image/png": "[encoded data removed]",
      "text/plain": [
       "<Figure size 640x480 with 1 Axes>"
      ]
     },
     "metadata": {},
     "output_type": "display_data"
    }
   ],
   "source": [
    "like_counts = all_comments_df[12].value_counts().sort_index()\n",
    "like_counts.plot(kind=\"bar\", xlabel=\"Count of Likes\", ylabel=\"Frequency\", title=\"Frequency of Count of Likes\")"
   ]
  },
  {
   "cell_type": "code",
   "execution_count": null,
   "id": "61651790-29a8-48d8-ab02-0230e9297aa0",
   "metadata": {},
   "outputs": [],
   "source": [
    "# FROM POSTGRES DATABASE\n",
    "#tags_corpus = create_tags_corpus(db_params, \"../sql/video/video_read_tags.SQL\")\n",
    "#print(tags_corpus)"
   ]
  }
 ],
 "metadata": {
  "kernelspec": {
   "display_name": "Python 3 (ipykernel)",
   "language": "python",
   "name": "python3"
  },
  "language_info": {
   "codemirror_mode": {
    "name": "ipython",
    "version": 3
   },
   "file_extension": ".py",
   "mimetype": "text/x-python",
   "name": "python",
   "nbconvert_exporter": "python",
   "pygments_lexer": "ipython3",
   "version": "3.10.5"
  }
 },
 "nbformat": 4,
 "nbformat_minor": 5
}
